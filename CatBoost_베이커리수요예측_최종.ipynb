{
  "nbformat": 4,
  "nbformat_minor": 0,
  "metadata": {
    "colab": {
      "provenance": [],
      "machine_shape": "hm",
      "gpuType": "A100"
    },
    "kernelspec": {
      "name": "python3",
      "display_name": "Python 3"
    },
    "language_info": {
      "name": "python"
    },
    "accelerator": "GPU"
  },
  "cells": [
    {
      "cell_type": "markdown",
      "source": [
        "# Data"
      ],
      "metadata": {
        "id": "XuwniBs2eu1p"
      }
    },
    {
      "cell_type": "markdown",
      "source": [
        "파일 불러오기"
      ],
      "metadata": {
        "id": "fYlcgHglfd46"
      }
    },
    {
      "cell_type": "code",
      "source": [
        "from google.colab import drive\n",
        "drive.mount('/content/drive')"
      ],
      "metadata": {
        "colab": {
          "base_uri": "https://localhost:8080/"
        },
        "id": "g4WQ3MJ2brlk",
        "outputId": "00f9dbfd-d400-4057-efe5-e73d88343663"
      },
      "execution_count": 1,
      "outputs": [
        {
          "output_type": "stream",
          "name": "stdout",
          "text": [
            "Drive already mounted at /content/drive; to attempt to forcibly remount, call drive.mount(\"/content/drive\", force_remount=True).\n"
          ]
        }
      ]
    },
    {
      "cell_type": "code",
      "source": [
        "import pandas as pd\n",
        "df = pd.read_csv('/content/drive/MyDrive/캡스톤_FrenchBakery/bakery_sales_top5.csv', parse_dates=['date'])\n",
        "df = df.sort_values(['article','date'])"
      ],
      "metadata": {
        "id": "aB0xNnQ0qGzZ"
      },
      "execution_count": 2,
      "outputs": []
    },
    {
      "cell_type": "markdown",
      "source": [
        "# CatBoost (외부 변수 추가)"
      ],
      "metadata": {
        "id": "dgz-XYDndFFr"
      }
    },
    {
      "cell_type": "markdown",
      "source": [
        "CatBoost 모델 학습 및 예측"
      ],
      "metadata": {
        "id": "iEW9HRh9mnih"
      }
    },
    {
      "cell_type": "markdown",
      "source": [
        "패키지 설치\n",
        "\n"
      ],
      "metadata": {
        "id": "BYFKuMf3nRqs"
      }
    },
    {
      "cell_type": "code",
      "source": [
        "!pip install catboost\n",
        "!pip install pycaret-ts-alpha --upgrade"
      ],
      "metadata": {
        "colab": {
          "base_uri": "https://localhost:8080/"
        },
        "id": "pC5d38A-nSzi",
        "outputId": "1a0edc47-91cb-4a92-c10f-57e4c062eca0",
        "collapsed": true
      },
      "execution_count": 3,
      "outputs": [
        {
          "output_type": "stream",
          "name": "stdout",
          "text": [
            "Requirement already satisfied: catboost in /usr/local/lib/python3.11/dist-packages (1.2.8)\n",
            "Requirement already satisfied: graphviz in /usr/local/lib/python3.11/dist-packages (from catboost) (0.21)\n",
            "Requirement already satisfied: matplotlib in /usr/local/lib/python3.11/dist-packages (from catboost) (3.10.0)\n",
            "Requirement already satisfied: numpy<3.0,>=1.16.0 in /usr/local/lib/python3.11/dist-packages (from catboost) (2.0.2)\n",
            "Requirement already satisfied: pandas>=0.24 in /usr/local/lib/python3.11/dist-packages (from catboost) (2.2.2)\n",
            "Requirement already satisfied: scipy in /usr/local/lib/python3.11/dist-packages (from catboost) (1.15.3)\n",
            "Requirement already satisfied: plotly in /usr/local/lib/python3.11/dist-packages (from catboost) (5.24.1)\n",
            "Requirement already satisfied: six in /usr/local/lib/python3.11/dist-packages (from catboost) (1.17.0)\n",
            "Requirement already satisfied: python-dateutil>=2.8.2 in /usr/local/lib/python3.11/dist-packages (from pandas>=0.24->catboost) (2.9.0.post0)\n",
            "Requirement already satisfied: pytz>=2020.1 in /usr/local/lib/python3.11/dist-packages (from pandas>=0.24->catboost) (2025.2)\n",
            "Requirement already satisfied: tzdata>=2022.7 in /usr/local/lib/python3.11/dist-packages (from pandas>=0.24->catboost) (2025.2)\n",
            "Requirement already satisfied: contourpy>=1.0.1 in /usr/local/lib/python3.11/dist-packages (from matplotlib->catboost) (1.3.2)\n",
            "Requirement already satisfied: cycler>=0.10 in /usr/local/lib/python3.11/dist-packages (from matplotlib->catboost) (0.12.1)\n",
            "Requirement already satisfied: fonttools>=4.22.0 in /usr/local/lib/python3.11/dist-packages (from matplotlib->catboost) (4.58.5)\n",
            "Requirement already satisfied: kiwisolver>=1.3.1 in /usr/local/lib/python3.11/dist-packages (from matplotlib->catboost) (1.4.8)\n",
            "Requirement already satisfied: packaging>=20.0 in /usr/local/lib/python3.11/dist-packages (from matplotlib->catboost) (24.2)\n",
            "Requirement already satisfied: pillow>=8 in /usr/local/lib/python3.11/dist-packages (from matplotlib->catboost) (11.2.1)\n",
            "Requirement already satisfied: pyparsing>=2.3.1 in /usr/local/lib/python3.11/dist-packages (from matplotlib->catboost) (3.2.3)\n",
            "Requirement already satisfied: tenacity>=6.2.0 in /usr/local/lib/python3.11/dist-packages (from plotly->catboost) (8.5.0)\n",
            "Requirement already satisfied: pycaret-ts-alpha in /usr/local/lib/python3.11/dist-packages (3.0.0.dev1649017462)\n",
            "Requirement already satisfied: ipython>=5.5.0 in /usr/local/lib/python3.11/dist-packages (from pycaret-ts-alpha) (7.34.0)\n",
            "Collecting numpy~=1.21 (from pycaret-ts-alpha)\n",
            "  Using cached numpy-1.26.4-cp311-cp311-manylinux_2_17_x86_64.manylinux2014_x86_64.whl.metadata (61 kB)\n",
            "Collecting pandas<1.5.0,>=1.3.0 (from pycaret-ts-alpha)\n",
            "  Using cached pandas-1.4.4.tar.gz (4.9 MB)\n",
            "  Installing build dependencies ... \u001b[?25l\u001b[?25hdone\n",
            "  Getting requirements to build wheel ... \u001b[?25l\u001b[?25hdone\n",
            "  Preparing metadata (pyproject.toml) ... \u001b[?25l\u001b[?25hdone\n",
            "INFO: pip is looking at multiple versions of pycaret-ts-alpha to determine which version is compatible with other requirements. This could take a while.\n",
            "Collecting pycaret-ts-alpha\n",
            "  Using cached pycaret_ts_alpha-3.0.0.dev1649017462-py3-none-any.whl.metadata (13 kB)\n",
            "  Using cached pycaret_ts_alpha-3.0.0.dev1648160839-py3-none-any.whl.metadata (10 kB)\n",
            "Requirement already satisfied: pandas in /usr/local/lib/python3.11/dist-packages (from pycaret-ts-alpha) (2.2.2)\n",
            "Requirement already satisfied: seaborn in /usr/local/lib/python3.11/dist-packages (from pycaret-ts-alpha) (0.13.2)\n",
            "Requirement already satisfied: matplotlib in /usr/local/lib/python3.11/dist-packages (from pycaret-ts-alpha) (3.10.0)\n",
            "Requirement already satisfied: joblib in /usr/local/lib/python3.11/dist-packages (from pycaret-ts-alpha) (1.5.1)\n",
            "Requirement already satisfied: scikit-learn>=1.0.0 in /usr/local/lib/python3.11/dist-packages (from pycaret-ts-alpha) (1.7.0)\n",
            "Requirement already satisfied: ipywidgets in /usr/local/lib/python3.11/dist-packages (from pycaret-ts-alpha) (7.7.1)\n",
            "Requirement already satisfied: yellowbrick>=1.4 in /usr/local/lib/python3.11/dist-packages (from pycaret-ts-alpha) (1.5)\n",
            "Requirement already satisfied: lightgbm>=2.3.1 in /usr/local/lib/python3.11/dist-packages (from pycaret-ts-alpha) (4.5.0)\n",
            "Requirement already satisfied: plotly>=5.0.0 in /usr/local/lib/python3.11/dist-packages (from pycaret-ts-alpha) (5.24.1)\n",
            "Collecting pyyaml<6.0.0 (from pycaret-ts-alpha)\n",
            "  Using cached PyYAML-5.4.1.tar.gz (175 kB)\n",
            "  Installing build dependencies ... \u001b[?25l\u001b[?25hdone\n",
            "  \u001b[1;31merror\u001b[0m: \u001b[1msubprocess-exited-with-error\u001b[0m\n",
            "  \n",
            "  \u001b[31m×\u001b[0m \u001b[32mGetting requirements to build wheel\u001b[0m did not run successfully.\n",
            "  \u001b[31m│\u001b[0m exit code: \u001b[1;36m1\u001b[0m\n",
            "  \u001b[31m╰─>\u001b[0m See above for output.\n",
            "  \n",
            "  \u001b[1;35mnote\u001b[0m: This error originates from a subprocess, and is likely not a problem with pip.\n",
            "  Getting requirements to build wheel ... \u001b[?25l\u001b[?25herror\n",
            "\u001b[1;31merror\u001b[0m: \u001b[1msubprocess-exited-with-error\u001b[0m\n",
            "\n",
            "\u001b[31m×\u001b[0m \u001b[32mGetting requirements to build wheel\u001b[0m did not run successfully.\n",
            "\u001b[31m│\u001b[0m exit code: \u001b[1;36m1\u001b[0m\n",
            "\u001b[31m╰─>\u001b[0m See above for output.\n",
            "\n",
            "\u001b[1;35mnote\u001b[0m: This error originates from a subprocess, and is likely not a problem with pip.\n"
          ]
        }
      ]
    },
    {
      "cell_type": "markdown",
      "source": [
        "### 날씨 + 주말 여부 + 공휴일 여부 추가"
      ],
      "metadata": {
        "id": "9OOsh6i_wXzp"
      }
    },
    {
      "cell_type": "code",
      "source": [
        "import pandas as pd\n",
        "import requests\n",
        "from catboost import CatBoostRegressor\n",
        "import holidays\n",
        "\n",
        "# 1) 날씨 데이터 조회 함수 (Open-Meteo Archive API 사용)\n",
        "# 프랑스 파리(48.8566, 2.3522) 기준\n",
        "\n",
        "def fetch_weather(start_date: str, end_date: str, lat: float = 48.8566, lon: float = 2.3522) -> pd.DataFrame:\n",
        "    \"\"\"\n",
        "    지정 기간(start_date~end_date)의 일별 최고기온(temp_max)과 강수량(precip)을 반환합니다.\n",
        "    날짜 형식은 'YYYY-MM-DD'.\n",
        "    \"\"\"\n",
        "    url = (\n",
        "        \"https://archive-api.open-meteo.com/v1/era5\"\n",
        "        f\"?latitude={lat}&longitude={lon}\"\n",
        "        f\"&start_date={start_date}&end_date={end_date}\"\n",
        "        \"&daily=temperature_2m_max,precipitation_sum\"\n",
        "        \"&timezone=Europe%2FParis\"\n",
        "    )\n",
        "    res = requests.get(url)\n",
        "    data = res.json()[\"daily\"]\n",
        "    df_w = pd.DataFrame({\n",
        "        \"date\": pd.to_datetime(data[\"time\"]),\n",
        "        \"temp_max\": data[\"temperature_2m_max\"],\n",
        "        \"precip\": data[\"precipitation_sum\"]\n",
        "    }).set_index(\"date\")\n",
        "    return df_w\n",
        "\n",
        "# 2) 판매 데이터 로드 및 정렬\n",
        "df.sort_values(['article', 'date'], inplace=True)\n",
        "\n",
        "results = []\n",
        "\n",
        "# 3) article별 예측 루프\n",
        "for article in df['article'].unique():\n",
        "    # 3-1) 수요 시계열 준비\n",
        "    ts = (\n",
        "        df[df['article'] == article]\n",
        "        .set_index('date')['quantity']\n",
        "        .asfreq('D')\n",
        "        .fillna(method='ffill')\n",
        "    )\n",
        "    start      = ts.index.min()\n",
        "    train_end  = start + pd.DateOffset(years=1) - pd.Timedelta(days=1)\n",
        "    test_start = train_end + pd.Timedelta(days=1)\n",
        "    test_end   = test_start + pd.DateOffset(years=1) - pd.Timedelta(days=1)\n",
        "\n",
        "    # 3-2) 전체 기간 날씨 데이터 조회\n",
        "    w_all = fetch_weather(\n",
        "        start.strftime('%Y-%m-%d'),\n",
        "        test_end.strftime('%Y-%m-%d')\n",
        "    )\n",
        "\n",
        "    # 3-3) Feature engineering: lag, rolling, 날씨, 주말 여부\n",
        "    feat = ts.to_frame(name='quantity')\n",
        "    feat['lag_1'] = feat['quantity'].shift(1)\n",
        "    feat['lag_7'] = feat['quantity'].shift(7)\n",
        "    feat['roll7'] = feat['quantity'].rolling(7).mean()\n",
        "    # Open-Meteo 날씨 데이터 합치기\n",
        "    feat = feat.join(w_all, how='left')\n",
        "    # 주말(토/일) 플래그\n",
        "    feat['is_weekend'] = feat.index.weekday >= 5\n",
        "\n",
        "    # 공휴일 feature 추가\n",
        "    fr_holidays = holidays.CountryHoliday(\"FR\")\n",
        "    feat['is_holiday'] = feat.index.to_series().apply(lambda d: int(d in fr_holidays))\n",
        "\n",
        "    # 결측 보간\n",
        "    feat.fillna(method='ffill', inplace=True)\n",
        "    feat.fillna(method='bfill', inplace=True)\n",
        "\n",
        "    # 3-4) train/test 분리\n",
        "    train = feat.loc[:train_end].dropna()\n",
        "    test  = feat.loc[test_start:test_end].dropna()\n",
        "    if train.empty or test.empty:\n",
        "        print(f\"Skipping {article}: insufficient data\")\n",
        "        continue\n",
        "\n",
        "    X_train = train.drop(columns='quantity')\n",
        "    y_train = train['quantity']\n",
        "    X_test  = test .drop(columns='quantity')\n",
        "    y_test  = test ['quantity']\n",
        "\n",
        "    # 3-5) CatBoost 학습 및 예측\n",
        "    model = CatBoostRegressor(iterations=200, verbose=0)\n",
        "    model.fit(X_train, y_train)\n",
        "    y_pred = model.predict(X_test)\n",
        "\n",
        "    # 3-6) 결과 저장\n",
        "    tmp = pd.DataFrame({\n",
        "        'article':   article,\n",
        "        'date':      X_test.index,\n",
        "        'actual':    y_test.values,\n",
        "        'predicted': y_pred\n",
        "    })\n",
        "    results.append(tmp)\n",
        "\n",
        "# 4) 전체 결과 합치고 CSV 저장\n",
        "df_results = pd.concat(results, ignore_index=True)\n",
        "df_results.to_csv('/content/drive/MyDrive/캡스톤_FrenchBakery/article_predictions_final.csv', index=False)\n",
        "print(\"Saved → article_predictions_final.csv with weather, weekend, holiday feature\")"
      ],
      "metadata": {
        "colab": {
          "base_uri": "https://localhost:8080/"
        },
        "id": "B9JV0cwrwcDR",
        "outputId": "6281a8a1-ea38-4962-91b9-4031618cc06d"
      },
      "execution_count": 6,
      "outputs": [
        {
          "output_type": "stream",
          "name": "stderr",
          "text": [
            "/tmp/ipython-input-6-3504755756.py:42: FutureWarning: Series.fillna with 'method' is deprecated and will raise in a future version. Use obj.ffill() or obj.bfill() instead.\n",
            "  .fillna(method='ffill')\n",
            "/tmp/ipython-input-6-3504755756.py:70: FutureWarning: DataFrame.fillna with 'method' is deprecated and will raise in a future version. Use obj.ffill() or obj.bfill() instead.\n",
            "  feat.fillna(method='ffill', inplace=True)\n",
            "/tmp/ipython-input-6-3504755756.py:71: FutureWarning: DataFrame.fillna with 'method' is deprecated and will raise in a future version. Use obj.ffill() or obj.bfill() instead.\n",
            "  feat.fillna(method='bfill', inplace=True)\n",
            "/tmp/ipython-input-6-3504755756.py:42: FutureWarning: Series.fillna with 'method' is deprecated and will raise in a future version. Use obj.ffill() or obj.bfill() instead.\n",
            "  .fillna(method='ffill')\n",
            "/tmp/ipython-input-6-3504755756.py:70: FutureWarning: DataFrame.fillna with 'method' is deprecated and will raise in a future version. Use obj.ffill() or obj.bfill() instead.\n",
            "  feat.fillna(method='ffill', inplace=True)\n",
            "/tmp/ipython-input-6-3504755756.py:71: FutureWarning: DataFrame.fillna with 'method' is deprecated and will raise in a future version. Use obj.ffill() or obj.bfill() instead.\n",
            "  feat.fillna(method='bfill', inplace=True)\n",
            "/tmp/ipython-input-6-3504755756.py:42: FutureWarning: Series.fillna with 'method' is deprecated and will raise in a future version. Use obj.ffill() or obj.bfill() instead.\n",
            "  .fillna(method='ffill')\n",
            "/tmp/ipython-input-6-3504755756.py:70: FutureWarning: DataFrame.fillna with 'method' is deprecated and will raise in a future version. Use obj.ffill() or obj.bfill() instead.\n",
            "  feat.fillna(method='ffill', inplace=True)\n",
            "/tmp/ipython-input-6-3504755756.py:71: FutureWarning: DataFrame.fillna with 'method' is deprecated and will raise in a future version. Use obj.ffill() or obj.bfill() instead.\n",
            "  feat.fillna(method='bfill', inplace=True)\n",
            "/tmp/ipython-input-6-3504755756.py:42: FutureWarning: Series.fillna with 'method' is deprecated and will raise in a future version. Use obj.ffill() or obj.bfill() instead.\n",
            "  .fillna(method='ffill')\n",
            "/tmp/ipython-input-6-3504755756.py:70: FutureWarning: DataFrame.fillna with 'method' is deprecated and will raise in a future version. Use obj.ffill() or obj.bfill() instead.\n",
            "  feat.fillna(method='ffill', inplace=True)\n",
            "/tmp/ipython-input-6-3504755756.py:71: FutureWarning: DataFrame.fillna with 'method' is deprecated and will raise in a future version. Use obj.ffill() or obj.bfill() instead.\n",
            "  feat.fillna(method='bfill', inplace=True)\n",
            "/tmp/ipython-input-6-3504755756.py:42: FutureWarning: Series.fillna with 'method' is deprecated and will raise in a future version. Use obj.ffill() or obj.bfill() instead.\n",
            "  .fillna(method='ffill')\n"
          ]
        },
        {
          "output_type": "stream",
          "name": "stdout",
          "text": [
            "Saved → article_predictions_final.csv with weather, weekend, holiday feature\n"
          ]
        },
        {
          "output_type": "stream",
          "name": "stderr",
          "text": [
            "/tmp/ipython-input-6-3504755756.py:70: FutureWarning: DataFrame.fillna with 'method' is deprecated and will raise in a future version. Use obj.ffill() or obj.bfill() instead.\n",
            "  feat.fillna(method='ffill', inplace=True)\n",
            "/tmp/ipython-input-6-3504755756.py:71: FutureWarning: DataFrame.fillna with 'method' is deprecated and will raise in a future version. Use obj.ffill() or obj.bfill() instead.\n",
            "  feat.fillna(method='bfill', inplace=True)\n"
          ]
        }
      ]
    },
    {
      "cell_type": "code",
      "source": [
        "# 5) 오차 계산 (RMSE, MAE)\n",
        "from sklearn.metrics import mean_squared_error, mean_absolute_error\n",
        "# 전체\n",
        "rmse_all = mean_squared_error(df_results['actual'], df_results['predicted']) ** 0.5\n",
        "mae_all = mean_absolute_error(df_results['actual'], df_results['predicted'])\n",
        "print(f\"Overall RMSE: {rmse_all:.2f}, MAE: {mae_all:.2f}\")\n",
        "\n",
        "# article별\n",
        "errors = df_results.groupby('article').apply(\n",
        "    lambda g: pd.Series({\n",
        "        'RMSE': mean_squared_error(g['actual'], g['predicted']) ** 0.5,\n",
        "        'MAE': mean_absolute_error(g['actual'], g['predicted'])\n",
        "    })\n",
        ")\n",
        "print(\"Errors by article:\")\n",
        "print(errors)"
      ],
      "metadata": {
        "colab": {
          "base_uri": "https://localhost:8080/"
        },
        "id": "TPP5YbAxwwm1",
        "outputId": "2c01c963-c2c7-4970-ed2b-1c83564e715f"
      },
      "execution_count": 7,
      "outputs": [
        {
          "output_type": "stream",
          "name": "stdout",
          "text": [
            "Overall RMSE: 7.28, MAE: 4.41\n",
            "Errors by article:\n",
            "                 RMSE       MAE\n",
            "article                        \n",
            "BAGUETTE    10.677805  7.844249\n",
            "BANETTE     11.349219  8.281946\n",
            "BANETTINE    1.626496  1.243344\n",
            "BOULE 200G   2.353337  1.838998\n",
            "BOULE 400G   3.766661  2.819753\n"
          ]
        },
        {
          "output_type": "stream",
          "name": "stderr",
          "text": [
            "/tmp/ipython-input-7-1600359329.py:9: DeprecationWarning: DataFrameGroupBy.apply operated on the grouping columns. This behavior is deprecated, and in a future version of pandas the grouping columns will be excluded from the operation. Either pass `include_groups=False` to exclude the groupings or explicitly select the grouping columns after groupby to silence this warning.\n",
            "  errors = df_results.groupby('article').apply(\n"
          ]
        }
      ]
    },
    {
      "cell_type": "code",
      "source": [],
      "metadata": {
        "id": "G8LEsROOdxwj"
      },
      "execution_count": null,
      "outputs": []
    }
  ]
}